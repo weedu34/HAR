{
 "cells": [
  {
   "cell_type": "code",
   "execution_count": null,
   "id": "33dc8fd8",
   "metadata": {},
   "outputs": [],
   "source": [
    "import os\n",
    "import numpy as np\n",
    "import cv2\n",
    "from skimage.io import imread, imsave,  imshow\n",
    "from skimage.feature import hog\n",
    "from skimage import exposure"
   ]
  },
  {
   "cell_type": "markdown",
   "id": "f17eb084",
   "metadata": {},
   "source": [
    "## Function for content and path extraction\n"
   ]
  },
  {
   "cell_type": "code",
   "execution_count": null,
   "id": "0e483cf8",
   "metadata": {},
   "outputs": [],
   "source": [
    "def dir_content_path(name):\n",
    "# path for current working directory and directories in it\n",
    "    \n",
    "    path = os.getcwd()\n",
    "    dirs = next(os.walk(path))[1]\n",
    "\n",
    "    # getting 'videos' folder index and path and its content\n",
    "    dir_Index = (dirs.index(name))\n",
    "    dir_Path = os.path.join(os.getcwd(),dirs[dir_Index])\n",
    "    dir_content = next(os.walk(dir_Path))[2]\n",
    "    directories = next(os.walk(dir_Path))[1]\n",
    "    return dir_content, dir_Path, directories"
   ]
  },
  {
   "cell_type": "markdown",
   "id": "7c8193ef",
   "metadata": {},
   "source": [
    "## Function for video2frame conversion"
   ]
  },
  {
   "cell_type": "code",
   "execution_count": null,
   "id": "7b00876c",
   "metadata": {},
   "outputs": [],
   "source": [
    "def v2f (video_dir_content,video_dir_path,frames_dir_path):\n",
    "\n",
    "    for video_count in video_dir_content:\n",
    "            # slpiting video name for making classes and labels\n",
    "            frames_dir_name = video_count.split('.')[0] \n",
    "            frames_new_dir_path = os.path.join(frames_dir_path,frames_dir_name)\n",
    "\n",
    "            # creating individual class folder\n",
    "            os.mkdir(frames_new_dir_path)\n",
    "            print('folder for frames of video %s is created' %frames_dir_name)\n",
    "\n",
    "            video2frame_path = os.path.join(video_dir_path, video_count)\n",
    "\n",
    "            # video to frames conversion\n",
    "            cap = cv2.VideoCapture(video2frame_path)\n",
    "            frames,img = cap.read()\n",
    "            count = 0\n",
    "            while frames:\n",
    "                img = cv2.cvtColor(img, cv2.COLOR_BGR2GRAY)\n",
    "                cv2.imwrite(frames_new_dir_path+'/frame '+ str(count)+'.jpg', img) # save frame as JPEG file      \n",
    "                frames,img = cap.read()\n",
    "                count += 1\n",
    "    print('All Videos are converted to frames')"
   ]
  },
  {
   "cell_type": "markdown",
   "id": "8b1674f5",
   "metadata": {},
   "source": [
    "## Function for HOG algorithm"
   ]
  },
  {
   "cell_type": "code",
   "execution_count": null,
   "id": "31765c7f",
   "metadata": {},
   "outputs": [],
   "source": [
    "def HOG(frames_dir_directories, frames_dir_path, HOG_dir_path ): \n",
    "\n",
    "    for frames_dir_count in frames_dir_directories:\n",
    "\n",
    "        X = []\n",
    "        y = []\n",
    "\n",
    "        # joining HOG folder path and individual class name and create folder\n",
    "        HOG_dir = os.path.join(HOG_dir_path,frames_dir_count)\n",
    "\n",
    "        os.mkdir(HOG_dir)\n",
    "        print('folder for HOG pictures %s is created' %HOG_dir)\n",
    "\n",
    "        frames_dir = os.path.join(frames_dir_path,frames_dir_count)\n",
    "        frames_index =next(os.walk(frames_dir))[2]\n",
    "\n",
    "\n",
    "        # loop for accessing individual frames inside respective directory\n",
    "        for frames_count in frames_index:\n",
    "            print(frames_dir_count)\n",
    "            label = frames_dir_count.split(' ')[0] # get indiviual class as label for example walking,boxing\n",
    "            frames = os.path.join(frames_dir,frames_count) # individual frame path\n",
    "            HOG_frames = os.path.join(HOG_dir,frames_count) # indiviual HOG path\n",
    "            if (label=='boxing'):\n",
    "\n",
    "                targets = 1\n",
    "            elif ( label=='handclapping'):\n",
    "                targets = 2\n",
    "            elif ( label=='handwaving'):\n",
    "                targets = 3\n",
    "            elif ( label=='jogging'):\n",
    "                targets = 4 \n",
    "            elif ( label=='running'):\n",
    "                targets = 5 \n",
    "            elif ( label=='walking'):\n",
    "                targets = 6 \n",
    "            print('label value:', label)\n",
    "            print('target value:', targets)\n",
    "\n",
    "            img = imread(frames) #image reading\n",
    "            # applying HOG algorthm using skimage buitin features\n",
    "            fd, hog_image = hog(img, orientations=9, pixels_per_cell=(8, 8),\n",
    "                        cells_per_block=(2, 2), visualize=True)\n",
    "            hog_image_rescaled = exposure.rescale_intensity(hog_image, in_range=(0, 10))\n",
    "            imsave(HOG_frames,hog_image_rescaled,as_grey=True, check_contrast=False) # saving HOG covnerted image to indiviudal folder\n",
    "            # appending features of individual frames and respective label to X and y Lists\n",
    "            X.append(fd)\n",
    "            y.append(targets)\n",
    "        t=np.array(X,dtype=float)\n",
    "        u=np.array(y,dtype=float)\n",
    "        with open(frames_dir_count+'_features.npy','wb') as f:\n",
    "            np.save(f,t)\n",
    "\n",
    "        with open(frames_dir_count+'_targets.npy','wb') as f:\n",
    "            np.save(f,u)\n",
    "\n",
    "\n"
   ]
  },
  {
   "cell_type": "markdown",
   "id": "0643175c",
   "metadata": {},
   "source": [
    "# Main code"
   ]
  },
  {
   "cell_type": "code",
   "execution_count": null,
   "id": "23ac9f1e",
   "metadata": {},
   "outputs": [],
   "source": [
    "video_dir_content, video_dir_path, video_dir_directories = dir_content_path('videos')\n",
    "frames_dir_content, frames_dir_path, frames_dir_directories = dir_content_path('frames')\n",
    "v2f(video_dir_content,video_dir_path,frames_dir_path)\n"
   ]
  },
  {
   "cell_type": "code",
   "execution_count": null,
   "id": "d508a123",
   "metadata": {},
   "outputs": [],
   "source": [
    "frames_dir_content, frames_dir_path, frames_dir_directories = dir_content_path('frames')\n",
    "HOG_dir_content, HOG_dir_path, HOG_dir_directories = dir_content_path('HOG')\n",
    "HOG(frames_dir_directories, frames_dir_path, HOG_dir_path )"
   ]
  }
 ],
 "metadata": {
  "kernelspec": {
   "display_name": "Python 3 (ipykernel)",
   "language": "python",
   "name": "python3"
  },
  "language_info": {
   "codemirror_mode": {
    "name": "ipython",
    "version": 3
   },
   "file_extension": ".py",
   "mimetype": "text/x-python",
   "name": "python",
   "nbconvert_exporter": "python",
   "pygments_lexer": "ipython3",
   "version": "3.9.12"
  }
 },
 "nbformat": 4,
 "nbformat_minor": 5
}
